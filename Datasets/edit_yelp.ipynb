{
 "cells": [
  {
   "cell_type": "code",
   "execution_count": 1,
   "id": "e049092f",
   "metadata": {},
   "outputs": [],
   "source": [
    "#Import Dependencies\n",
    "import pandas as pd"
   ]
  },
  {
   "cell_type": "code",
   "execution_count": 4,
   "id": "1a51fb9a",
   "metadata": {},
   "outputs": [],
   "source": [
    "#Edit Address Column in Business\n",
    "data_business=pd.read_csv(r'D:\\DSE Files\\data\\yelp_academic_dataset_business.csv')\n",
    "df_business=pd.DataFrame(data_business, columns=[\"business_id\",\"name\",\"address\",\"city\",\"state\",\"postal_code\",\"latitude\",\"longitude\",\"stars\",\"review_count\",\"is_open\",\"attributes\",\"categories\",\"hours\"])\n",
    "df_business['address'] = df_business['address'].str.replace(',', '')\n",
    "df_business.to_csv('D:\\DSE Files\\data\\yelp_academic_dataset_business.csv')"
   ]
  },
  {
   "cell_type": "code",
   "execution_count": 4,
   "id": "ce006c6e",
   "metadata": {},
   "outputs": [],
   "source": [
    "#Edit Text Column in Reviews\n",
    "data_reviews=pd.read_csv(r'D:\\DSE Files\\data\\yelp_academic_dataset_review.csv')\n",
    "df_reviews=pd.DataFrame(data_reviews, columns=[\"review_id\",\"user_id\",\"business_id\",\"stars\",\"useful\",\"funny\",\"cool\",\"text\",\"date\"])\n",
    "df_reviews['text'] = df_reviews['text'].str.strip('\\\\')\n",
    "df_reviews['text'] = df_reviews['text'].str.strip('\"\"')\n",
    "df_reviews.to_csv('D:\\DSE Files\\data\\yelp_academic_dataset_review.csv')"
   ]
  },
  {
   "cell_type": "code",
   "execution_count": null,
   "id": "b634ce09",
   "metadata": {},
   "outputs": [],
   "source": [
    "#Edit Label Column in Photos\n",
    "data_photos=pd.read_csv(r'D:\\DSE Files\\data\\yelp_academic_dataset_photos.csv')\n",
    "df_photos=pd.DataFrame(data_photos, columns=[\"photo_id\",\"business_id\",\"caption\",\"label\"])\n",
    "df_photos['label'] = df_photos['label'].str.strip('\\\\')\n",
    "df_photos.to_csv('D:\\DSE Files\\data\\yelp_academic_dataset_photos.csv')"
   ]
  },
  {
   "cell_type": "code",
   "execution_count": 6,
   "id": "7b0b58cd",
   "metadata": {},
   "outputs": [],
   "source": [
    "#Edit Text Column in Tips\n",
    "data_tips=pd.read_csv(r'D:\\DSE Files\\data\\yelp_academic_dataset_tip.csv')\n",
    "df_tips=pd.DataFrame(data_tips, columns=[\"user_id\",\"business_id\",\"text\",\"date\",\"compliment_count\"])\n",
    "df_tips['text'] = df_tips['text'].str.strip('\\\\')\n",
    "df_tips.to_csv('D:\\DSE Files\\data\\yelp_academic_dataset_tip.csv')"
   ]
  },
  {
   "cell_type": "code",
   "execution_count": null,
   "id": "e5e8222b",
   "metadata": {},
   "outputs": [],
   "source": []
  }
 ],
 "metadata": {
  "kernelspec": {
   "display_name": "Python 3 (ipykernel)",
   "language": "python",
   "name": "python3"
  },
  "language_info": {
   "codemirror_mode": {
    "name": "ipython",
    "version": 3
   },
   "file_extension": ".py",
   "mimetype": "text/x-python",
   "name": "python",
   "nbconvert_exporter": "python",
   "pygments_lexer": "ipython3",
   "version": "3.9.7"
  }
 },
 "nbformat": 4,
 "nbformat_minor": 5
}
