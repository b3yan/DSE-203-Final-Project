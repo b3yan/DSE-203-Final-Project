{
 "cells": [
  {
   "cell_type": "code",
   "execution_count": 3,
   "id": "152e2e7b",
   "metadata": {},
   "outputs": [],
   "source": [
    "#Tasty API Recipe List JSON (Name, Description, Ingredients, Nutrition):\n",
    "import requests\n",
    "\n",
    "url = \"https://tasty.p.rapidapi.com/recipes/list\"\n",
    "\n",
    "querystring = {\"from\":\"0\",\"size\":\"100000\"}\n",
    "\n",
    "headers = {\n",
    "    'x-rapidapi-host': \"tasty.p.rapidapi.com\",\n",
    "    'x-rapidapi-key': \"3909245fe8msh2162ec791f4d00ap1e234ejsnf21796e5d332\"\n",
    "    }\n",
    "\n",
    "response = requests.request(\"GET\", url, headers=headers, params=querystring)\n",
    "\n",
    "with open('tasty_response_list.json', 'wb') as outf:\n",
    "    outf.write(response.content)"
   ]
  },
  {
   "cell_type": "code",
   "execution_count": null,
   "id": "40e49375",
   "metadata": {},
   "outputs": [],
   "source": [
    "#Edit API Recipe List CSV:"
   ]
  },
  {
   "cell_type": "code",
   "execution_count": null,
   "id": "32320c58",
   "metadata": {},
   "outputs": [],
   "source": []
  }
 ],
 "metadata": {
  "kernelspec": {
   "display_name": "Python 3 (ipykernel)",
   "language": "python",
   "name": "python3"
  },
  "language_info": {
   "codemirror_mode": {
    "name": "ipython",
    "version": 3
   },
   "file_extension": ".py",
   "mimetype": "text/x-python",
   "name": "python",
   "nbconvert_exporter": "python",
   "pygments_lexer": "ipython3",
   "version": "3.9.7"
  }
 },
 "nbformat": 4,
 "nbformat_minor": 5
}
