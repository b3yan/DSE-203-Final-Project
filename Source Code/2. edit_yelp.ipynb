{
 "cells": [
  {
   "cell_type": "markdown",
   "id": "ebbb573a",
   "metadata": {
    "toc": true
   },
   "source": [
    "<h1>Table of Contents<span class=\"tocSkip\"></span></h1>\n",
    "<div class=\"toc\"><ul class=\"toc-item\"><li><span><a href=\"#DSE-203:-Final-Project\" data-toc-modified-id=\"DSE-203:-Final-Project-1\"><span class=\"toc-item-num\">1&nbsp;&nbsp;</span>DSE 203: Final Project</a></span><ul class=\"toc-item\"><li><span><a href=\"#Author:-Adelle-Driker,-Bo-Yan,-Paul-Cabasag\" data-toc-modified-id=\"Author:-Adelle-Driker,-Bo-Yan,-Paul-Cabasag-1.1\"><span class=\"toc-item-num\">1.1&nbsp;&nbsp;</span>Author: Adelle Driker, Bo Yan, Paul Cabasag</a></span></li></ul></li></ul></div>"
   ]
  },
  {
   "cell_type": "markdown",
   "id": "de3cc421-04f5-4906-a01d-7d13ac1495ad",
   "metadata": {},
   "source": [
    "# DSE 203: Final Project\n",
    "## Author: Adelle Driker, Bo Yan, Paul Cabasag"
   ]
  },
  {
   "cell_type": "code",
   "execution_count": 1,
   "id": "829a8a56-d8c6-4996-a9e5-51b6c6013b97",
   "metadata": {},
   "outputs": [],
   "source": [
    "import pandas as pd"
   ]
  },
  {
   "cell_type": "code",
   "execution_count": 4,
   "id": "1a51fb9a",
   "metadata": {},
   "outputs": [],
   "source": [
    "#Edit Address Column in Business\n",
    "data_business=pd.read_csv(r'D:\\DSE Files\\data\\yelp_academic_dataset_business.csv')\n",
    "df_business=pd.DataFrame(data_business, columns=[\"business_id\",\"name\",\"address\",\"city\",\"state\",\"postal_code\",\"latitude\",\"longitude\",\"stars\",\"review_count\",\"is_open\",\"attributes\",\"categories\",\"hours\"])\n",
    "df_business['address'] = df_business['address'].str.replace(',', '')\n",
    "df_business.to_csv('D:\\DSE Files\\data\\yelp_academic_dataset_business.csv')"
   ]
  },
  {
   "cell_type": "code",
   "execution_count": 4,
   "id": "ce006c6e",
   "metadata": {},
   "outputs": [],
   "source": [
    "#Edit Text Column in Reviews\n",
    "data_reviews=pd.read_csv(r'D:\\DSE Files\\data\\yelp_academic_dataset_review.csv')\n",
    "df_reviews=pd.DataFrame(data_reviews, columns=[\"review_id\",\"user_id\",\"business_id\",\"stars\",\"useful\",\"funny\",\"cool\",\"text\",\"date\"])\n",
    "df_reviews['text'] = df_reviews['text'].str.strip('\\\\')\n",
    "df_reviews['text'] = df_reviews['text'].str.strip('\"\"')\n",
    "df_reviews.to_csv('D:\\DSE Files\\data\\yelp_academic_dataset_review.csv')"
   ]
  },
  {
   "cell_type": "code",
   "execution_count": null,
   "id": "b634ce09",
   "metadata": {},
   "outputs": [],
   "source": [
    "#Edit Label Column in Photos\n",
    "data_photos=pd.read_csv(r'D:\\DSE Files\\data\\yelp_academic_dataset_photos.csv')\n",
    "df_photos=pd.DataFrame(data_photos, columns=[\"photo_id\",\"business_id\",\"caption\",\"label\"])\n",
    "df_photos['label'] = df_photos['label'].str.strip('\\\\')\n",
    "df_photos.to_csv('D:\\DSE Files\\data\\yelp_academic_dataset_photos.csv')"
   ]
  },
  {
   "cell_type": "code",
   "execution_count": 6,
   "id": "7b0b58cd",
   "metadata": {},
   "outputs": [],
   "source": [
    "#Edit Text Column in Tips\n",
    "data_tips=pd.read_csv(r'D:\\DSE Files\\data\\yelp_academic_dataset_tip.csv')\n",
    "df_tips=pd.DataFrame(data_tips, columns=[\"user_id\",\"business_id\",\"text\",\"date\",\"compliment_count\"])\n",
    "df_tips['text'] = df_tips['text'].str.strip('\\\\')\n",
    "df_tips.to_csv('D:\\DSE Files\\data\\yelp_academic_dataset_tip.csv')"
   ]
  }
 ],
 "metadata": {
  "kernelspec": {
   "display_name": "Python 3 (ipykernel)",
   "language": "python",
   "name": "python3"
  },
  "language_info": {
   "codemirror_mode": {
    "name": "ipython",
    "version": 3
   },
   "file_extension": ".py",
   "mimetype": "text/x-python",
   "name": "python",
   "nbconvert_exporter": "python",
   "pygments_lexer": "ipython3",
   "version": "3.9.7"
  },
  "nbTranslate": {
   "displayLangs": [
    "*"
   ],
   "hotkey": "alt-t",
   "langInMainMenu": true,
   "sourceLang": "en",
   "targetLang": "fr",
   "useGoogleTranslate": true
  },
  "toc": {
   "base_numbering": 1,
   "nav_menu": {},
   "number_sections": true,
   "sideBar": true,
   "skip_h1_title": false,
   "title_cell": "Table of Contents",
   "title_sidebar": "Contents",
   "toc_cell": true,
   "toc_position": {},
   "toc_section_display": true,
   "toc_window_display": false
  },
  "varInspector": {
   "cols": {
    "lenName": 16,
    "lenType": 16,
    "lenVar": 40
   },
   "kernels_config": {
    "python": {
     "delete_cmd_postfix": "",
     "delete_cmd_prefix": "del ",
     "library": "var_list.py",
     "varRefreshCmd": "print(var_dic_list())"
    },
    "r": {
     "delete_cmd_postfix": ") ",
     "delete_cmd_prefix": "rm(",
     "library": "var_list.r",
     "varRefreshCmd": "cat(var_dic_list()) "
    }
   },
   "types_to_exclude": [
    "module",
    "function",
    "builtin_function_or_method",
    "instance",
    "_Feature"
   ],
   "window_display": false
  }
 },
 "nbformat": 4,
 "nbformat_minor": 5
}
