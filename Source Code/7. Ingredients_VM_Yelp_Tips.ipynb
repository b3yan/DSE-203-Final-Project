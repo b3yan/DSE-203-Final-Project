{
 "cells": [
  {
   "cell_type": "markdown",
   "id": "bd7f21d6",
   "metadata": {
    "toc": true
   },
   "source": [
    "<h1>Table of Contents<span class=\"tocSkip\"></span></h1>\n",
    "<div class=\"toc\"><ul class=\"toc-item\"><li><span><a href=\"#DSE-203:-Final-Project\" data-toc-modified-id=\"DSE-203:-Final-Project-1\"><span class=\"toc-item-num\">1&nbsp;&nbsp;</span>DSE 203: Final Project</a></span><ul class=\"toc-item\"><li><span><a href=\"#Author:-Adelle-Driker,-Bo-Yan,-Paul-Cabasag\" data-toc-modified-id=\"Author:-Adelle-Driker,-Bo-Yan,-Paul-Cabasag-1.1\"><span class=\"toc-item-num\">1.1&nbsp;&nbsp;</span>Author: Adelle Driker, Bo Yan, Paul Cabasag</a></span></li><li><span><a href=\"#Import-Libraries\" data-toc-modified-id=\"Import-Libraries-1.2\"><span class=\"toc-item-num\">1.2&nbsp;&nbsp;</span>Import Libraries</a></span></li><li><span><a href=\"#Yelp:Tips-to-FoodOn-ValueMatching\" data-toc-modified-id=\"Yelp:Tips-to-FoodOn-ValueMatching-1.3\"><span class=\"toc-item-num\">1.3&nbsp;&nbsp;</span>Yelp:Tips to FoodOn ValueMatching</a></span><ul class=\"toc-item\"><li><span><a href=\"#Get-Business_Id-and-Text-From-Yelp:Tips-Nodes-&amp;-Format-as-Dataframe\" data-toc-modified-id=\"Get-Business_Id-and-Text-From-Yelp:Tips-Nodes-&amp;-Format-as-Dataframe-1.3.1\"><span class=\"toc-item-num\">1.3.1&nbsp;&nbsp;</span>Get Business_Id and Text From Yelp:Tips Nodes &amp; Format as Dataframe</a></span></li><li><span><a href=\"#Extract-Nouns-from-Each-Tip-Using-NLTK\" data-toc-modified-id=\"Extract-Nouns-from-Each-Tip-Using-NLTK-1.3.2\"><span class=\"toc-item-num\">1.3.2&nbsp;&nbsp;</span>Extract Nouns from Each Tip Using NLTK</a></span></li><li><span><a href=\"#Read-in-Ingredients-File\" data-toc-modified-id=\"Read-in-Ingredients-File-1.3.3\"><span class=\"toc-item-num\">1.3.3&nbsp;&nbsp;</span>Read in Ingredients File</a></span></li><li><span><a href=\"#Create-a-List-of-Matches-for-Each-Business_Id,-Tip-Pair\" data-toc-modified-id=\"Create-a-List-of-Matches-for-Each-Business_Id,-Tip-Pair-1.3.4\"><span class=\"toc-item-num\">1.3.4&nbsp;&nbsp;</span>Create a List of Matches for Each Business_Id, Tip Pair</a></span></li><li><span><a href=\"#Create-a-Dictionary-to-Store-all-Matched-FoodOn-Items-for-each-Business_Id\" data-toc-modified-id=\"Create-a-Dictionary-to-Store-all-Matched-FoodOn-Items-for-each-Business_Id-1.3.5\"><span class=\"toc-item-num\">1.3.5&nbsp;&nbsp;</span>Create a Dictionary to Store all Matched FoodOn Items for each Business_Id</a></span></li><li><span><a href=\"#Remove-any-Business_Id-Keys-Without-a-Match-List\" data-toc-modified-id=\"Remove-any-Business_Id-Keys-Without-a-Match-List-1.3.6\"><span class=\"toc-item-num\">1.3.6&nbsp;&nbsp;</span>Remove any Business_Id Keys Without a Match List</a></span></li><li><span><a href=\"#Create-a-NodeMatcher-Object-and-Set-a-Default-Value-for-the-New-Ingredient_Matches-Property\" data-toc-modified-id=\"Create-a-NodeMatcher-Object-and-Set-a-Default-Value-for-the-New-Ingredient_Matches-Property-1.3.7\"><span class=\"toc-item-num\">1.3.7&nbsp;&nbsp;</span>Create a NodeMatcher Object and Set a Default Value for the New Ingredient_Matches Property</a></span></li><li><span><a href=\"#Set-the-Ingredient_Matches-Property-and-Push-to-Remote-Graph\" data-toc-modified-id=\"Set-the-Ingredient_Matches-Property-and-Push-to-Remote-Graph-1.3.8\"><span class=\"toc-item-num\">1.3.8&nbsp;&nbsp;</span>Set the Ingredient_Matches Property and Push to Remote Graph</a></span></li></ul></li></ul></li></ul></div>"
   ]
  },
  {
   "cell_type": "markdown",
   "id": "f0ebb832-4e26-497b-a209-8bca1421e666",
   "metadata": {},
   "source": [
    "# DSE 203: Final Project\n",
    "## Author: Adelle Driker, Bo Yan, Paul Cabasag"
   ]
  },
  {
   "cell_type": "markdown",
   "id": "9493545d-5156-4201-928c-1ab9beb6def0",
   "metadata": {},
   "source": [
    "## Import Libraries"
   ]
  },
  {
   "cell_type": "code",
   "execution_count": 1,
   "id": "ff64f87d-1eae-4ae6-895c-d94a4b3843a7",
   "metadata": {},
   "outputs": [],
   "source": [
    "import pandas as pd\n",
    "import numpy as np\n",
    "import nltk\n",
    "from py2neo import Graph, Node, Relationship, NodeMatcher\n",
    "from collections import Counter"
   ]
  },
  {
   "cell_type": "markdown",
   "id": "df27ce66-f468-490e-aa41-3aa42bc2bac2",
   "metadata": {},
   "source": [
    "## Yelp:Tips to FoodOn ValueMatching"
   ]
  },
  {
   "cell_type": "code",
   "execution_count": 2,
   "id": "2a5e806b",
   "metadata": {},
   "outputs": [],
   "source": [
    "#Connect to Neo4j Database\n",
    "url=\"bolt://localhost:7687\"\n",
    "pwd=\"12345\"\n",
    "graph=Graph(url, auth=('neo4j', pwd))"
   ]
  },
  {
   "cell_type": "markdown",
   "id": "8d7c4072-cf86-43a9-8bb0-f71438ad6d1a",
   "metadata": {},
   "source": [
    "### Get Business_Id and Text From Yelp:Tips Nodes & Format as Dataframe"
   ]
  },
  {
   "cell_type": "code",
   "execution_count": 4,
   "id": "351f2ddf",
   "metadata": {},
   "outputs": [
    {
     "data": {
      "text/html": [
       "<div>\n",
       "<style scoped>\n",
       "    .dataframe tbody tr th:only-of-type {\n",
       "        vertical-align: middle;\n",
       "    }\n",
       "\n",
       "    .dataframe tbody tr th {\n",
       "        vertical-align: top;\n",
       "    }\n",
       "\n",
       "    .dataframe thead th {\n",
       "        text-align: right;\n",
       "    }\n",
       "</style>\n",
       "<table border=\"1\" class=\"dataframe\">\n",
       "  <thead>\n",
       "    <tr style=\"text-align: right;\">\n",
       "      <th></th>\n",
       "      <th>n.business_id</th>\n",
       "      <th>n.text</th>\n",
       "    </tr>\n",
       "  </thead>\n",
       "  <tbody>\n",
       "    <tr>\n",
       "      <th>0</th>\n",
       "      <td>--164t1nclzzmca7eDiJMw</td>\n",
       "      <td>Get jalapeños on the side if you can't handle ...</td>\n",
       "    </tr>\n",
       "    <tr>\n",
       "      <th>1</th>\n",
       "      <td>--164t1nclzzmca7eDiJMw</td>\n",
       "      <td>Spring rolls!! Come check them out. First time...</td>\n",
       "    </tr>\n",
       "    <tr>\n",
       "      <th>2</th>\n",
       "      <td>--164t1nclzzmca7eDiJMw</td>\n",
       "      <td>Fat Elvis is Phat! The service is great, too!</td>\n",
       "    </tr>\n",
       "    <tr>\n",
       "      <th>3</th>\n",
       "      <td>--164t1nclzzmca7eDiJMw</td>\n",
       "      <td>Banh mi with chicken or lemongrass tofu is a MUST</td>\n",
       "    </tr>\n",
       "    <tr>\n",
       "      <th>4</th>\n",
       "      <td>--164t1nclzzmca7eDiJMw</td>\n",
       "      <td>Super spicy, but very tasty BBQ pork bahn mi.</td>\n",
       "    </tr>\n",
       "    <tr>\n",
       "      <th>...</th>\n",
       "      <td>...</td>\n",
       "      <td>...</td>\n",
       "    </tr>\n",
       "    <tr>\n",
       "      <th>403105</th>\n",
       "      <td>zzlkjDG9Rv8Jn-vSolMgyw</td>\n",
       "      <td>The Glenntini is soo refreshing. delicious-- t...</td>\n",
       "    </tr>\n",
       "    <tr>\n",
       "      <th>403106</th>\n",
       "      <td>zzlkjDG9Rv8Jn-vSolMgyw</td>\n",
       "      <td>This place is atrocious. We are here with a pa...</td>\n",
       "    </tr>\n",
       "    <tr>\n",
       "      <th>403107</th>\n",
       "      <td>zzlkjDG9Rv8Jn-vSolMgyw</td>\n",
       "      <td>Very good tomato bisque, great service.</td>\n",
       "    </tr>\n",
       "    <tr>\n",
       "      <th>403108</th>\n",
       "      <td>zzlkjDG9Rv8Jn-vSolMgyw</td>\n",
       "      <td>Try the chicken it's delicious. The Coffee it'...</td>\n",
       "    </tr>\n",
       "    <tr>\n",
       "      <th>403109</th>\n",
       "      <td>zzpmoTVq4yn86U7ArHyFBQ</td>\n",
       "      <td>Amber pearl latte with egg puff is the perfect...</td>\n",
       "    </tr>\n",
       "  </tbody>\n",
       "</table>\n",
       "<p>403110 rows × 2 columns</p>\n",
       "</div>"
      ],
      "text/plain": [
       "                 n.business_id  \\\n",
       "0       --164t1nclzzmca7eDiJMw   \n",
       "1       --164t1nclzzmca7eDiJMw   \n",
       "2       --164t1nclzzmca7eDiJMw   \n",
       "3       --164t1nclzzmca7eDiJMw   \n",
       "4       --164t1nclzzmca7eDiJMw   \n",
       "...                        ...   \n",
       "403105  zzlkjDG9Rv8Jn-vSolMgyw   \n",
       "403106  zzlkjDG9Rv8Jn-vSolMgyw   \n",
       "403107  zzlkjDG9Rv8Jn-vSolMgyw   \n",
       "403108  zzlkjDG9Rv8Jn-vSolMgyw   \n",
       "403109  zzpmoTVq4yn86U7ArHyFBQ   \n",
       "\n",
       "                                                   n.text  \n",
       "0       Get jalapeños on the side if you can't handle ...  \n",
       "1       Spring rolls!! Come check them out. First time...  \n",
       "2           Fat Elvis is Phat! The service is great, too!  \n",
       "3       Banh mi with chicken or lemongrass tofu is a MUST  \n",
       "4           Super spicy, but very tasty BBQ pork bahn mi.  \n",
       "...                                                   ...  \n",
       "403105  The Glenntini is soo refreshing. delicious-- t...  \n",
       "403106  This place is atrocious. We are here with a pa...  \n",
       "403107            Very good tomato bisque, great service.  \n",
       "403108  Try the chicken it's delicious. The Coffee it'...  \n",
       "403109  Amber pearl latte with egg puff is the perfect...  \n",
       "\n",
       "[403110 rows x 2 columns]"
      ]
     },
     "execution_count": 4,
     "metadata": {},
     "output_type": "execute_result"
    }
   ],
   "source": [
    "query = \"\"\"\n",
    "        MATCH (n:Tips)-[:TIPS_TO_BUSINESS]-(m:Business) WHERE m.categories CONTAINS 'Food' \n",
    "        AND size(n.text) > 10 RETURN n.business_id, n.text ORDER BY n.business_id\n",
    "\"\"\"\n",
    "df_tips = graph.query(query).to_data_frame()\n",
    "df_tips"
   ]
  },
  {
   "cell_type": "markdown",
   "id": "c78a045d-24f1-4275-839a-578e31ec7184",
   "metadata": {},
   "source": [
    "### Extract Nouns from Each Tip Using NLTK"
   ]
  },
  {
   "cell_type": "markdown",
   "id": "32e4eff0-57b9-4dc4-ba11-7ad996b4c8c5",
   "metadata": {},
   "source": [
    "Since each food item is expected to be a noun, we extract only nouns from each tip."
   ]
  },
  {
   "cell_type": "code",
   "execution_count": 5,
   "id": "5129f3d0-f428-4c5d-a917-74726bd9898e",
   "metadata": {},
   "outputs": [
    {
     "name": "stdout",
     "output_type": "stream",
     "text": [
      "Wall time: 12min 22s\n"
     ]
    }
   ],
   "source": [
    "%%time\n",
    "\n",
    "### Extract nouns from text\n",
    "is_noun = lambda pos: pos[:2] == 'NN'\n",
    "\n",
    "nouns = []\n",
    "stop_words = ['get', 'mi', 'place', 'time', 'you', 'me', 'location', 'owner', 'vibe', 'service', 'i', 'Sunday', 'Monday', \n",
    "              'Tuesday', 'Wednesday','Thursday', 'Friday', 'Saturday', 'lots', 'sale', 'awesome', 'bahn', 'we', 'us', 'them']\n",
    "\n",
    "df_tips['n.text'] = df_tips['n.text'].str.lower()\n",
    "\n",
    "for i in range(df_tips.shape[0]):\n",
    "    tokenized = nltk.word_tokenize(df_tips['n.text'][i])\n",
    "    nouns_text = [word for (word, pos) in nltk.pos_tag(tokenized) if is_noun(pos) and word not in stop_words]\n",
    "    nouns.append(nouns_text)"
   ]
  },
  {
   "cell_type": "markdown",
   "id": "bf78ba4e-fbf9-4094-ab86-cde428346f3b",
   "metadata": {},
   "source": [
    "### Read in Ingredients File"
   ]
  },
  {
   "cell_type": "code",
   "execution_count": 6,
   "id": "9f38d73d",
   "metadata": {},
   "outputs": [],
   "source": [
    "ingr = pd.read_csv('ingredients.csv')"
   ]
  },
  {
   "cell_type": "markdown",
   "id": "337a2e66-8d5f-4d15-92ad-55657d91f268",
   "metadata": {},
   "source": [
    "### Create a List of Matches for Each Business_Id, Tip Pair"
   ]
  },
  {
   "cell_type": "code",
   "execution_count": 7,
   "id": "d6f32d91-13f1-4082-8601-2b0c140252e8",
   "metadata": {},
   "outputs": [
    {
     "name": "stdout",
     "output_type": "stream",
     "text": [
      "Wall time: 6min 33s\n"
     ]
    }
   ],
   "source": [
    "%%time\n",
    "\n",
    "matches = []\n",
    "\n",
    "for i in range(len(nouns)):\n",
    "    \n",
    "    w_matches = []\n",
    "    \n",
    "    for j in range(ingr.shape[0]):\n",
    "\n",
    "        if ingr['Ingredients'][j] in nouns[i]:\n",
    "            w_matches.append([ingr['Ingredients'][j]])\n",
    "    matches.append(w_matches)\n",
    "\n",
    "# Add 'matches' column to df_tips\n",
    "df_tips['matches'] = matches"
   ]
  },
  {
   "cell_type": "markdown",
   "id": "50e06d8f-b673-4ee8-b661-8507e61cfdca",
   "metadata": {},
   "source": [
    "### Create a Dictionary to Store all Matched FoodOn Items for each Business_Id"
   ]
  },
  {
   "cell_type": "code",
   "execution_count": 8,
   "id": "b34e9c4c-337b-41cc-a7a1-71b413db1c8c",
   "metadata": {
    "scrolled": true,
    "tags": []
   },
   "outputs": [
    {
     "name": "stdout",
     "output_type": "stream",
     "text": [
      "Wall time: 6.56 s\n"
     ]
    }
   ],
   "source": [
    "%%time\n",
    "match_dict = {}\n",
    "\n",
    "for i in range(df_tips.shape[0]):\n",
    "    curr_id = df_tips['n.business_id'][i]\n",
    "    if curr_id in match_dict:\n",
    "        match_dict[curr_id].append(df_tips['matches'][i])\n",
    "    else:\n",
    "        match_dict[curr_id] = df_tips['matches'][i]\n",
    "        \n",
    "\n",
    "for key in match_dict:\n",
    "    match_dict[key] = list(np.unique([i if type(item) == list else item for sublist in match_dict[key] for item in sublist for i in item]))\n",
    "\n",
    "#match_dict\n"
   ]
  },
  {
   "cell_type": "markdown",
   "id": "89168a54-b5ae-4665-be51-b4fd939ba755",
   "metadata": {},
   "source": [
    "### Remove any Business_Id Keys Without a Match List"
   ]
  },
  {
   "cell_type": "code",
   "execution_count": 9,
   "id": "95f81877-a249-4a04-96f6-5a747506e7ca",
   "metadata": {
    "scrolled": true,
    "tags": []
   },
   "outputs": [],
   "source": [
    "for key in list(match_dict.keys()):\n",
    "    if len(match_dict[key]) == 0:\n",
    "        del match_dict[key]\n",
    "        \n",
    "#match_dict"
   ]
  },
  {
   "cell_type": "markdown",
   "id": "ebd7edda-effb-4a0e-8453-d879ea43be61",
   "metadata": {},
   "source": [
    "### Create a NodeMatcher Object and Set a Default Value for the New Ingredient_Matches Property"
   ]
  },
  {
   "cell_type": "markdown",
   "id": "482d9a88-a38a-46d6-ab7f-e2f87ad6aacd",
   "metadata": {},
   "source": [
    "The ingredient_matches property will store the list of matched ingredients, which will be used to create edges between a Yelp Business an Ingredient item."
   ]
  },
  {
   "cell_type": "code",
   "execution_count": null,
   "id": "654b7b51-e719-4701-a9ba-b6bbaa980dbf",
   "metadata": {},
   "outputs": [],
   "source": [
    "matcher = NodeMatcher(graph)"
   ]
  },
  {
   "cell_type": "code",
   "execution_count": null,
   "id": "460f3bdd-170c-48de-90d0-96c4ce71fd7d",
   "metadata": {},
   "outputs": [],
   "source": [
    "%%time\n",
    "for key in match_dict:\n",
    "    curr_node = matcher.match(\"Business\", business_id = key).first()\n",
    "    curr_node.setdefault(\"tips_ingredient_matches\", \"\")\n",
    "    graph.push(curr_node)"
   ]
  },
  {
   "cell_type": "markdown",
   "id": "af726ec3-c526-4d16-8e49-034a8897a483",
   "metadata": {},
   "source": [
    "### Set the Ingredient_Matches Property and Push to Remote Graph"
   ]
  },
  {
   "cell_type": "code",
   "execution_count": 10,
   "id": "642baa21-13f3-4eab-943d-d48ecf9ae17e",
   "metadata": {},
   "outputs": [
    {
     "name": "stdout",
     "output_type": "stream",
     "text": [
      "Wall time: 59min 42s\n"
     ]
    }
   ],
   "source": [
    "%%time\n",
    "for key in match_dict:\n",
    "    graph.run(\"MATCH (b:Business {business_id: '%s'}) SET b.tips_ingredient_matches = $tim\" % str(key), tim = str(match_dict[key]))"
   ]
  },
  {
   "cell_type": "code",
   "execution_count": null,
   "id": "d87d68ce-a014-4ee3-9346-e74eeb39638d",
   "metadata": {
    "scrolled": true,
    "tags": []
   },
   "outputs": [],
   "source": [
    "%%time\n",
    "for key in match_dict:\n",
    "    curr_node = matcher.match(\"Business\", business_id = key).first()\n",
    "    #print(curr_node)\n",
    "    graph.push(curr_node)"
   ]
  }
 ],
 "metadata": {
  "kernelspec": {
   "display_name": "Python 3 (ipykernel)",
   "language": "python",
   "name": "python3"
  },
  "language_info": {
   "codemirror_mode": {
    "name": "ipython",
    "version": 3
   },
   "file_extension": ".py",
   "mimetype": "text/x-python",
   "name": "python",
   "nbconvert_exporter": "python",
   "pygments_lexer": "ipython3",
   "version": "3.9.7"
  },
  "nbTranslate": {
   "displayLangs": [
    "*"
   ],
   "hotkey": "alt-t",
   "langInMainMenu": true,
   "sourceLang": "en",
   "targetLang": "fr",
   "useGoogleTranslate": true
  },
  "toc": {
   "base_numbering": 1,
   "nav_menu": {},
   "number_sections": true,
   "sideBar": true,
   "skip_h1_title": false,
   "title_cell": "Table of Contents",
   "title_sidebar": "Contents",
   "toc_cell": true,
   "toc_position": {},
   "toc_section_display": true,
   "toc_window_display": false
  },
  "varInspector": {
   "cols": {
    "lenName": 16,
    "lenType": 16,
    "lenVar": 40
   },
   "kernels_config": {
    "python": {
     "delete_cmd_postfix": "",
     "delete_cmd_prefix": "del ",
     "library": "var_list.py",
     "varRefreshCmd": "print(var_dic_list())"
    },
    "r": {
     "delete_cmd_postfix": ") ",
     "delete_cmd_prefix": "rm(",
     "library": "var_list.r",
     "varRefreshCmd": "cat(var_dic_list()) "
    }
   },
   "types_to_exclude": [
    "module",
    "function",
    "builtin_function_or_method",
    "instance",
    "_Feature"
   ],
   "window_display": false
  }
 },
 "nbformat": 4,
 "nbformat_minor": 5
}
